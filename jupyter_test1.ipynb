{
 "cells": [
  {
   "cell_type": "code",
   "execution_count": 1,
   "id": "2a6e6b52",
   "metadata": {},
   "outputs": [
    {
     "name": "stderr",
     "output_type": "stream",
     "text": [
      "In /home/mahogny/miniconda3_38/lib/python3.8/site-packages/matplotlib/mpl-data/stylelib/_classic_test.mplstyle: \n",
      "The text.latex.preview rcparam was deprecated in Matplotlib 3.3 and will be removed two minor releases later.\n",
      "In /home/mahogny/miniconda3_38/lib/python3.8/site-packages/matplotlib/mpl-data/stylelib/_classic_test.mplstyle: \n",
      "The mathtext.fallback_to_cm rcparam was deprecated in Matplotlib 3.3 and will be removed two minor releases later.\n",
      "In /home/mahogny/miniconda3_38/lib/python3.8/site-packages/matplotlib/mpl-data/stylelib/_classic_test.mplstyle: Support for setting the 'mathtext.fallback_to_cm' rcParam is deprecated since 3.3 and will be removed two minor releases later; use 'mathtext.fallback : 'cm' instead.\n",
      "In /home/mahogny/miniconda3_38/lib/python3.8/site-packages/matplotlib/mpl-data/stylelib/_classic_test.mplstyle: \n",
      "The validate_bool_maybe_none function was deprecated in Matplotlib 3.3 and will be removed two minor releases later.\n",
      "In /home/mahogny/miniconda3_38/lib/python3.8/site-packages/matplotlib/mpl-data/stylelib/_classic_test.mplstyle: \n",
      "The savefig.jpeg_quality rcparam was deprecated in Matplotlib 3.3 and will be removed two minor releases later.\n",
      "In /home/mahogny/miniconda3_38/lib/python3.8/site-packages/matplotlib/mpl-data/stylelib/_classic_test.mplstyle: \n",
      "The keymap.all_axes rcparam was deprecated in Matplotlib 3.3 and will be removed two minor releases later.\n",
      "In /home/mahogny/miniconda3_38/lib/python3.8/site-packages/matplotlib/mpl-data/stylelib/_classic_test.mplstyle: \n",
      "The animation.avconv_path rcparam was deprecated in Matplotlib 3.3 and will be removed two minor releases later.\n",
      "In /home/mahogny/miniconda3_38/lib/python3.8/site-packages/matplotlib/mpl-data/stylelib/_classic_test.mplstyle: \n",
      "The animation.avconv_args rcparam was deprecated in Matplotlib 3.3 and will be removed two minor releases later.\n"
     ]
    }
   ],
   "source": [
    "import unittest\n",
    "import scanpy as sc\n",
    "\n",
    "import encoders\n",
    "import decoders\n",
    "import core\n",
    "import latentspace\n",
    "import training\n",
    "import loader\n",
    "import math\n",
    "import anndata\n",
    "\n",
    "import torch\n",
    "\n",
    "%matplotlib inline\n",
    "import matplotlib.pyplot as plt\n",
    "plt.style.use('seaborn-whitegrid')\n",
    "import numpy as np"
   ]
  },
  {
   "cell_type": "code",
   "execution_count": 2,
   "id": "c4029f3a",
   "metadata": {},
   "outputs": [
    {
     "data": {
      "image/png": "[encoded data removed]",
      "text/plain": [
       "<Figure size 432x288 with 1 Axes>"
      ]
     },
     "metadata": {},
     "output_type": "display_data"
    }
   ],
   "source": [
    "if False:\n",
    "    ### Real data\n",
    "    adata = sc.read(\"data/small_rna.h5ad\")\n",
    "else:\n",
    "    ### Create artificial data to fit\n",
    "    num_cell = 1000\n",
    "\n",
    "    gene1 = [np.random.poisson(int(abs(100*math.sin(float(v)*2*math.pi/num_cell)))) for v in range(0,num_cell)]\n",
    "    gene2 = [np.random.poisson(int(abs(100*math.cos(float(v)*2*math.pi/num_cell)))) for v in range(0,num_cell)]\n",
    "    gene3 = [np.random.poisson(int(abs(100*math.sin(float(v)*math.pi/num_cell)))) for v in range(0,num_cell)]\n",
    "    gene4 = [np.random.poisson(int(abs(100*math.cos(float(v)*math.pi/num_cell)))) for v in range(0,num_cell)]\n",
    "\n",
    "    X=[gene1,gene2,gene3,gene4]\n",
    "    adata=anndata.AnnData(np.array(X).T)\n",
    "\n",
    "    plt.plot(gene1)"
   ]
  },
  {
   "cell_type": "code",
   "execution_count": null,
   "id": "785ead54",
   "metadata": {},
   "outputs": [],
   "source": []
  },
  {
   "cell_type": "code",
   "execution_count": 3,
   "id": "e632ff4b",
   "metadata": {},
   "outputs": [
    {
     "name": "stdout",
     "output_type": "stream",
     "text": [
      "CUDA is available: False\n",
      "Chose device: \n",
      "------------------------ sizes of variables ---------------------\n",
      "{'X': 4, 'X_sf': 3, 'enc_rna': 10, 'enc_sf': 2, 'sf_rna': 1, 'z': 5, 'rnaseq_count': 4}\n",
      "---------------------- where variables are used as inputs -------\n",
      "[('X', ['DVAEencoderFC', 'DVAEencoderFC']), ('enc_sf', ['DVAElatentspaceSizeFactor']), ('X_sf', ['DVAElatentspaceSizeFactor']), ('enc_rna', ['DVAElatentspaceLinear']), ('z', ['DVAEdecoderRnaseq'])]\n",
      "---------------------- where variables are outputs --------------\n",
      "[('X', 'DVAEloaderCounts'), ('X_sf', 'DVAEloaderCounts'), ('enc_rna', 'DVAEencoderFC'), ('enc_sf', 'DVAEencoderFC'), ('sf_rna', 'DVAElatentspaceSizeFactor'), ('z', 'DVAElatentspaceLinear'), ('rnaseq_count', 'DVAEdecoderRnaseq')]\n",
      "-----------------------------------------------------------------\n",
      "====== num params 2656\n",
      "training DVAEtrainingBasic epoch 0 loss 2035562.25, in parts {'kl': 873517.6796875, 'reconstruction': 1162044.7598266602}\n",
      "training DVAEtrainingBasic epoch 1 loss 647528.3125, in parts {'kl': 633488.7265625, 'reconstruction': 14039.591430664062}\n",
      "training DVAEtrainingBasic epoch 2 loss 526514.0, in parts {'kl': 514519.046875, 'reconstruction': 11994.891479492188}\n",
      "training DVAEtrainingBasic epoch 3 loss 448824.125, in parts {'kl': 438186.73828125, 'reconstruction': 10637.429565429688}\n",
      "training DVAEtrainingBasic epoch 4 loss 333902.96875, in parts {'kl': 323949.85546875, 'reconstruction': 9953.120483398438}\n",
      "training DVAEtrainingBasic epoch 5 loss 215148.9375, in parts {'kl': 206316.09375, 'reconstruction': 8832.829223632812}\n",
      "training DVAEtrainingBasic epoch 6 loss 154291.3125, in parts {'kl': 146530.33203125, 'reconstruction': 7760.977600097656}\n",
      "training DVAEtrainingBasic epoch 7 loss 150507.875, in parts {'kl': 143995.173828125, 'reconstruction': 6512.7061767578125}\n",
      "training DVAEtrainingBasic epoch 8 loss 138654.640625, in parts {'kl': 132543.41796875, 'reconstruction': 6111.220886230469}\n",
      "training DVAEtrainingBasic epoch 9 loss 123324.8671875, in parts {'kl': 118713.91845703125, 'reconstruction': 4610.9571533203125}\n",
      "training DVAEtrainingBasic epoch 10 loss 114320.390625, in parts {'kl': 111159.4599609375, 'reconstruction': 3160.9287109375}\n",
      "training DVAEtrainingBasic epoch 11 loss 122291.5546875, in parts {'kl': 119796.8583984375, 'reconstruction': 2494.693572998047}\n",
      "training DVAEtrainingBasic epoch 12 loss 125965.34375, in parts {'kl': 123728.8095703125, 'reconstruction': 2236.542922973633}\n",
      "training DVAEtrainingBasic epoch 13 loss 142823.203125, in parts {'kl': 140717.5556640625, 'reconstruction': 2105.649917602539}\n",
      "training DVAEtrainingBasic epoch 14 loss 134430.75, in parts {'kl': 132506.015625, 'reconstruction': 1924.7245788574219}\n",
      "training DVAEtrainingBasic epoch 15 loss 130355.9453125, in parts {'kl': 128292.3984375, 'reconstruction': 2063.5462951660156}\n",
      "training DVAEtrainingBasic epoch 16 loss 131739.859375, in parts {'kl': 129653.3603515625, 'reconstruction': 2086.5034942626953}\n",
      "training DVAEtrainingBasic epoch 17 loss 114870.5, in parts {'kl': 112968.1484375, 'reconstruction': 1902.3628540039062}\n",
      "training DVAEtrainingBasic epoch 18 loss 137984.4375, in parts {'kl': 136033.1845703125, 'reconstruction': 1951.2495574951172}\n",
      "training DVAEtrainingBasic epoch 19 loss 123058.8828125, in parts {'kl': 121163.9130859375, 'reconstruction': 1894.9679718017578}\n",
      "training DVAEtrainingBasic epoch 20 loss 131193.828125, in parts {'kl': 129213.9658203125, 'reconstruction': 1979.8596649169922}\n",
      "training DVAEtrainingBasic epoch 21 loss 136682.109375, in parts {'kl': 134798.6806640625, 'reconstruction': 1883.427505493164}\n",
      "training DVAEtrainingBasic epoch 22 loss 118583.2421875, in parts {'kl': 116666.525390625, 'reconstruction': 1916.7145385742188}\n",
      "training DVAEtrainingBasic epoch 23 loss 117368.828125, in parts {'kl': 115506.0458984375, 'reconstruction': 1862.79296875}\n",
      "training DVAEtrainingBasic epoch 24 loss 139282.3125, in parts {'kl': 137554.650390625, 'reconstruction': 1727.6531829833984}\n",
      "training DVAEtrainingBasic epoch 25 loss 143179.84375, in parts {'kl': 141253.630859375, 'reconstruction': 1926.2169342041016}\n",
      "training DVAEtrainingBasic epoch 26 loss 120392.2890625, in parts {'kl': 118624.7861328125, 'reconstruction': 1767.5051879882812}\n",
      "training DVAEtrainingBasic epoch 27 loss 140805.96875, in parts {'kl': 138787.6435546875, 'reconstruction': 2018.3369750976562}\n",
      "training DVAEtrainingBasic epoch 28 loss 125847.890625, in parts {'kl': 123991.853515625, 'reconstruction': 1856.0435791015625}\n",
      "training DVAEtrainingBasic epoch 29 loss 124481.0, in parts {'kl': 122541.2919921875, 'reconstruction': 1939.7064666748047}\n",
      "training DVAEtrainingBasic epoch 30 loss 124318.828125, in parts {'kl': 122541.2646484375, 'reconstruction': 1777.5600891113281}\n",
      "training DVAEtrainingBasic epoch 31 loss 135979.6875, in parts {'kl': 134290.8681640625, 'reconstruction': 1688.8182220458984}\n",
      "training DVAEtrainingBasic epoch 32 loss 126225.890625, in parts {'kl': 124427.017578125, 'reconstruction': 1798.8653717041016}\n",
      "training DVAEtrainingBasic epoch 33 loss 124520.9765625, in parts {'kl': 122758.892578125, 'reconstruction': 1762.0812377929688}\n",
      "training DVAEtrainingBasic epoch 34 loss 128040.859375, in parts {'kl': 126312.75390625, 'reconstruction': 1728.1092529296875}\n",
      "training DVAEtrainingBasic epoch 35 loss 113822.7421875, in parts {'kl': 112024.66015625, 'reconstruction': 1798.0857696533203}\n",
      "training DVAEtrainingBasic epoch 36 loss 147067.078125, in parts {'kl': 145387.736328125, 'reconstruction': 1679.32861328125}\n",
      "training DVAEtrainingBasic epoch 37 loss 135341.765625, in parts {'kl': 133565.580078125, 'reconstruction': 1776.1785430908203}\n",
      "training DVAEtrainingBasic epoch 38 loss 135523.640625, in parts {'kl': 133855.70703125, 'reconstruction': 1667.9310455322266}\n",
      "training DVAEtrainingBasic epoch 39 loss 133497.171875, in parts {'kl': 131679.8603515625, 'reconstruction': 1817.317642211914}\n",
      "training DVAEtrainingBasic epoch 40 loss 146218.6875, in parts {'kl': 144444.8759765625, 'reconstruction': 1773.8035125732422}\n",
      "training DVAEtrainingBasic epoch 41 loss 127039.7890625, in parts {'kl': 125369.9140625, 'reconstruction': 1669.8696746826172}\n",
      "training DVAEtrainingBasic epoch 42 loss 131106.328125, in parts {'kl': 129431.4423828125, 'reconstruction': 1674.8952178955078}\n",
      "training DVAEtrainingBasic epoch 43 loss 138818.734375, in parts {'kl': 137192.0302734375, 'reconstruction': 1626.7069549560547}\n",
      "training DVAEtrainingBasic epoch 44 loss 120118.0625, in parts {'kl': 118552.18359375, 'reconstruction': 1565.8809661865234}\n",
      "training DVAEtrainingBasic epoch 45 loss 130180.65625, in parts {'kl': 128488.599609375, 'reconstruction': 1692.0615844726562}\n",
      "training DVAEtrainingBasic epoch 46 loss 135276.078125, in parts {'kl': 133638.140625, 'reconstruction': 1637.9419860839844}\n",
      "training DVAEtrainingBasic epoch 47 loss 133517.265625, in parts {'kl': 131969.958984375, 'reconstruction': 1547.3111267089844}\n",
      "training DVAEtrainingBasic epoch 48 loss 129496.375, in parts {'kl': 127980.931640625, 'reconstruction': 1515.4442443847656}\n",
      "training DVAEtrainingBasic epoch 49 loss 137694.625, in parts {'kl': 135959.0712890625, 'reconstruction': 1735.5503845214844}\n",
      "training DVAEtrainingBasic epoch 50 loss 118799.59375, in parts {'kl': 117319.271484375, 'reconstruction': 1480.3203887939453}\n",
      "training DVAEtrainingBasic epoch 51 loss 124837.796875, in parts {'kl': 123266.5517578125, 'reconstruction': 1571.2492218017578}\n",
      "training DVAEtrainingBasic epoch 52 loss 116869.25, in parts {'kl': 115215.904296875, 'reconstruction': 1653.3429565429688}\n",
      "training DVAEtrainingBasic epoch 53 loss 140256.484375, in parts {'kl': 138715.10546875, 'reconstruction': 1541.3669128417969}\n",
      "training DVAEtrainingBasic epoch 54 loss 125815.4375, in parts {'kl': 124354.46875, 'reconstruction': 1460.9692077636719}\n",
      "training DVAEtrainingBasic epoch 55 loss 138440.625, in parts {'kl': 136901.88671875, 'reconstruction': 1538.7372131347656}\n",
      "training DVAEtrainingBasic epoch 56 loss 139442.015625, in parts {'kl': 137844.8095703125, 'reconstruction': 1597.1923370361328}\n",
      "training DVAEtrainingBasic epoch 57 loss 113510.7109375, in parts {'kl': 112024.65234375, 'reconstruction': 1486.0522155761719}\n",
      "training DVAEtrainingBasic epoch 58 loss 131377.6875, in parts {'kl': 129794.126953125, 'reconstruction': 1583.5494079589844}\n",
      "training DVAEtrainingBasic epoch 59 loss 118786.015625, in parts {'kl': 117246.7138671875, 'reconstruction': 1539.3079223632812}\n",
      "training DVAEtrainingBasic epoch 60 loss 125788.25, in parts {'kl': 124281.9228515625, 'reconstruction': 1506.3223419189453}\n",
      "training DVAEtrainingBasic epoch 61 loss 128152.5859375, in parts {'kl': 126675.400390625, 'reconstruction': 1477.1911163330078}\n",
      "training DVAEtrainingBasic epoch 62 loss 128037.046875, in parts {'kl': 126530.365234375, 'reconstruction': 1506.680160522461}\n",
      "training DVAEtrainingBasic epoch 63 loss 143155.34375, in parts {'kl': 141543.7001953125, 'reconstruction': 1611.6365661621094}\n",
      "training DVAEtrainingBasic epoch 64 loss 127702.515625, in parts {'kl': 126167.7041015625, 'reconstruction': 1534.8171997070312}\n",
      "training DVAEtrainingBasic epoch 65 loss 127937.0859375, in parts {'kl': 126385.29296875, 'reconstruction': 1551.7909088134766}\n",
      "training DVAEtrainingBasic epoch 66 loss 120964.7421875, in parts {'kl': 119422.57080078125, 'reconstruction': 1542.1724700927734}\n"
     ]
    },
    {
     "name": "stdout",
     "output_type": "stream",
     "text": [
      "training DVAEtrainingBasic epoch 67 loss 104985.421875, in parts {'kl': 103538.8603515625, 'reconstruction': 1446.5712280273438}\n",
      "training DVAEtrainingBasic epoch 68 loss 138127.78125, in parts {'kl': 136684.29296875, 'reconstruction': 1443.5026245117188}\n",
      "training DVAEtrainingBasic epoch 69 loss 132340.359375, in parts {'kl': 130809.537109375, 'reconstruction': 1530.8255767822266}\n",
      "training DVAEtrainingBasic epoch 70 loss 122365.4609375, in parts {'kl': 120945.669921875, 'reconstruction': 1419.7952423095703}\n",
      "training DVAEtrainingBasic epoch 71 loss 121568.0234375, in parts {'kl': 120220.3662109375, 'reconstruction': 1347.6575546264648}\n",
      "training DVAEtrainingBasic epoch 72 loss 122534.4765625, in parts {'kl': 121018.1923828125, 'reconstruction': 1516.2812957763672}\n",
      "training DVAEtrainingBasic epoch 73 loss 131126.859375, in parts {'kl': 129649.0419921875, 'reconstruction': 1477.8137664794922}\n",
      "training DVAEtrainingBasic epoch 74 loss 127378.921875, in parts {'kl': 125877.5859375, 'reconstruction': 1501.3348693847656}\n",
      "training DVAEtrainingBasic epoch 75 loss 128646.953125, in parts {'kl': 127183.1259765625, 'reconstruction': 1463.8263244628906}\n",
      "training DVAEtrainingBasic epoch 76 loss 124015.9296875, in parts {'kl': 122613.8173828125, 'reconstruction': 1402.1163940429688}\n",
      "training DVAEtrainingBasic epoch 77 loss 136959.03125, in parts {'kl': 135523.85546875, 'reconstruction': 1435.1764831542969}\n",
      "training DVAEtrainingBasic epoch 78 loss 123958.8203125, in parts {'kl': 122613.80078125, 'reconstruction': 1345.0235137939453}\n",
      "training DVAEtrainingBasic epoch 79 loss 121854.0078125, in parts {'kl': 120437.9697265625, 'reconstruction': 1416.0404205322266}\n",
      "training DVAEtrainingBasic epoch 80 loss 126301.96875, in parts {'kl': 124717.1640625, 'reconstruction': 1584.8036804199219}\n",
      "training DVAEtrainingBasic epoch 81 loss 113241.4375, in parts {'kl': 111807.095703125, 'reconstruction': 1434.3384399414062}\n",
      "training DVAEtrainingBasic epoch 82 loss 132234.765625, in parts {'kl': 130809.529296875, 'reconstruction': 1425.2349548339844}\n",
      "training DVAEtrainingBasic epoch 83 loss 139850.515625, in parts {'kl': 138352.4453125, 'reconstruction': 1498.0684967041016}\n",
      "training DVAEtrainingBasic epoch 84 loss 129472.15625, in parts {'kl': 127980.91796875, 'reconstruction': 1491.2462615966797}\n",
      "training DVAEtrainingBasic epoch 85 loss 119587.140625, in parts {'kl': 118117.078125, 'reconstruction': 1470.064468383789}\n",
      "training DVAEtrainingBasic epoch 86 loss 123343.859375, in parts {'kl': 121815.9814453125, 'reconstruction': 1527.8755340576172}\n",
      "training DVAEtrainingBasic epoch 87 loss 128704.9765625, in parts {'kl': 127328.14453125, 'reconstruction': 1376.833023071289}\n",
      "training DVAEtrainingBasic epoch 88 loss 125341.765625, in parts {'kl': 123991.869140625, 'reconstruction': 1349.8924102783203}\n",
      "training DVAEtrainingBasic epoch 89 loss 122956.3515625, in parts {'kl': 121453.337890625, 'reconstruction': 1503.0105743408203}\n",
      "training DVAEtrainingBasic epoch 90 loss 133178.046875, in parts {'kl': 131752.38671875, 'reconstruction': 1425.6622619628906}\n",
      "training DVAEtrainingBasic epoch 91 loss 111952.9453125, in parts {'kl': 110574.099609375, 'reconstruction': 1378.8448944091797}\n",
      "training DVAEtrainingBasic epoch 92 loss 130784.46875, in parts {'kl': 129358.9462890625, 'reconstruction': 1425.5230255126953}\n",
      "training DVAEtrainingBasic epoch 93 loss 122513.25, in parts {'kl': 121163.2353515625, 'reconstruction': 1350.0138397216797}\n",
      "training DVAEtrainingBasic epoch 94 loss 121616.15625, in parts {'kl': 120002.775390625, 'reconstruction': 1613.3727111816406}\n",
      "training DVAEtrainingBasic epoch 95 loss 132604.5625, in parts {'kl': 131317.2001953125, 'reconstruction': 1287.3586883544922}\n",
      "training DVAEtrainingBasic epoch 96 loss 135491.0625, in parts {'kl': 134145.8017578125, 'reconstruction': 1345.2499694824219}\n",
      "training DVAEtrainingBasic epoch 97 loss 137704.734375, in parts {'kl': 136249.146484375, 'reconstruction': 1455.5784454345703}\n",
      "training DVAEtrainingBasic epoch 98 loss 131233.78125, in parts {'kl': 130011.705078125, 'reconstruction': 1222.0834350585938}\n",
      "training DVAEtrainingBasic epoch 99 loss 126876.5, in parts {'kl': 125587.48876953125, 'reconstruction': 1289.0119171142578}\n",
      "=======input nodes=======\n",
      "['X', 'X', 'enc_sf', 'X_sf', 'enc_rna', 'z']\n",
      "['DVAEencoderFC', 'DVAEencoderFC', 'DVAElatentspaceSizeFactor', 'DVAElatentspaceSizeFactor', 'DVAElatentspaceLinear', 'DVAEdecoderRnaseq']\n",
      "=======output nodes=======\n",
      "['X', 'X_sf', 'enc_rna', 'enc_sf', 'sf_rna', 'z', 'rnaseq_count']\n",
      "['DVAEloaderCounts', 'DVAEloaderCounts', 'DVAEencoderFC', 'DVAEencoderFC', 'DVAElatentspaceSizeFactor', 'DVAElatentspaceLinear', 'DVAEdecoderRnaseq']\n"
     ]
    },
    {
     "data": {
      "image/png": "[encoded data removed]",
      "text/plain": [
       "<Figure size 432x288 with 1 Axes>"
      ]
     },
     "metadata": {},
     "output_type": "display_data"
    }
   ],
   "source": [
    "device = training.get_torch_device()\n",
    "\n",
    "m = core.DVAEmodel(adata)\n",
    "\n",
    "# rename to input\n",
    "loader.DVAEloaderCounts(m)\n",
    "\n",
    "if False:\n",
    "    the_enc = encoders.DVAEencoderFC(m, inputs=\"X\", output=\"enc_rna\", n_output=4)\n",
    "    zspace = latentspace.DVAElatentspaceLinear(m, inputs=\"enc_rna\", output=\"z\")\n",
    "    the_dec = decoders.DVAEdecoderFC(m, inputs=\"z\")\n",
    "elif False:\n",
    "    the_enc = encoders.DVAEencoderFC(m, inputs=\"X\", output=\"enc_rna\", n_output=2)\n",
    "    the_dec = decoders.DVAEdecoderFC(m, inputs=\"enc_rna\")\n",
    "else:\n",
    "    # encoder layer\n",
    "    the_enc = encoders.DVAEencoderFC(m, inputs=\"X\", output=\"enc_rna\", n_output=10)\n",
    "    the_enc_sf = encoders.DVAEencoderFC(m, inputs=\"X\", output=\"enc_sf\", n_output=2)\n",
    "\n",
    "    # latent space\n",
    "    the_l = latentspace.DVAElatentspaceSizeFactor(m, inputs=\"enc_sf\", sf_empirical=\"X_sf\", output=\"sf_rna\")\n",
    "    zspace = latentspace.DVAElatentspaceLinear(m, inputs=\"enc_rna\", output=\"z\")\n",
    "\n",
    "    # RNA decoder\n",
    "    the_dec = decoders.DVAEdecoderRnaseq(\n",
    "            m,\n",
    "            inputs=\"z\",\n",
    "            input_sf=\"sf_rna\",\n",
    "            gene_likelihood=\"poisson\"  # \"zinb\"\n",
    "        )\n",
    "\n",
    "m.env.print_variable_defs()\n",
    "\n",
    "trainer = training.DVAEtrainingBasic(num_epoch=100, lr = 1e-1)\n",
    "trainer.train(m)\n",
    "\n",
    "m.env.call_graph()"
   ]
  },
  {
   "cell_type": "code",
   "execution_count": 4,
   "id": "5798da7e",
   "metadata": {},
   "outputs": [
    {
     "name": "stdout",
     "output_type": "stream",
     "text": [
      "=======input nodes=======\n",
      "['X', 'X', 'enc_sf', 'X_sf', 'enc_rna', 'z']\n",
      "['DVAEencoderFC', 'DVAEencoderFC', 'DVAElatentspaceSizeFactor', 'DVAElatentspaceSizeFactor', 'DVAElatentspaceLinear', 'DVAEdecoderRnaseq']\n",
      "=======output nodes=======\n",
      "['X', 'X_sf', 'enc_rna', 'enc_sf', 'sf_rna', 'z', 'rnaseq_count']\n",
      "['DVAEloaderCounts', 'DVAEloaderCounts', 'DVAEencoderFC', 'DVAEencoderFC', 'DVAElatentspaceSizeFactor', 'DVAElatentspaceLinear', 'DVAEdecoderRnaseq']\n"
     ]
    },
    {
     "data": {
      "image/png": "[encoded data removed]",
      "text/plain": [
       "<Figure size 432x288 with 1 Axes>"
      ]
     },
     "metadata": {},
     "output_type": "display_data"
    }
   ],
   "source": [
    "m.env.call_graph()"
   ]
  },
  {
   "cell_type": "code",
   "execution_count": 5,
   "id": "90de91cc",
   "metadata": {},
   "outputs": [],
   "source": [
    "# Prepare all data\n",
    "dataset = m.get_dataset()\n",
    "all_data = dataset[range(0,adata.shape[0])]\n",
    "all_data = {k: torch.from_numpy(v) for k, v in all_data.items()}\n",
    "\n",
    "# Predict. TODO forward and use means for latent spaces\n",
    "\n",
    "with torch.no_grad():\n",
    "    loss_recorder = m.forward(all_data, do_sampling=False)\n",
    "    predicted_exp = m.env.get_variable_as_tensor(\"rnaseq_count\").detach().cpu().numpy()"
   ]
  },
  {
   "cell_type": "code",
   "execution_count": 6,
   "id": "d5a2b008",
   "metadata": {},
   "outputs": [
    {
     "data": {
      "text/plain": [
       "{}"
      ]
     },
     "execution_count": 6,
     "metadata": {},
     "output_type": "execute_result"
    }
   ],
   "source": [
    "loss_recorder._losses"
   ]
  },
  {
   "cell_type": "code",
   "execution_count": 7,
   "id": "0b9bfb35",
   "metadata": {},
   "outputs": [],
   "source": [
    "#adata = sc.read(\"data/small_rna.h5ad\")"
   ]
  },
  {
   "cell_type": "code",
   "execution_count": 8,
   "id": "0a6e0081",
   "metadata": {},
   "outputs": [],
   "source": [
    "def pseudolog(x):\n",
    "    return np.log(np.array(x)+1)"
   ]
  },
  {
   "cell_type": "code",
   "execution_count": 9,
   "id": "7c50e816",
   "metadata": {},
   "outputs": [],
   "source": [
    "def todense(X):\n",
    "    if hasattr(X,\"todense\"):\n",
    "        return X.todense()\n",
    "    else:\n",
    "        return X"
   ]
  },
  {
   "cell_type": "code",
   "execution_count": 10,
   "id": "648c5870",
   "metadata": {},
   "outputs": [
    {
     "data": {
      "text/plain": [
       "array([[1.       , 0.0179314],\n",
       "       [0.0179314, 1.       ]])"
      ]
     },
     "execution_count": 10,
     "metadata": {},
     "output_type": "execute_result"
    },
    {
     "data": {
      "image/png": "[encoded data removed]",
      "text/plain": [
       "<Figure size 432x288 with 1 Axes>"
      ]
     },
     "metadata": {},
     "output_type": "display_data"
    }
   ],
   "source": [
    "x = list(pseudolog(todense(adata.X[1:2000,]).flat))\n",
    "y = list(pseudolog(predicted_exp[1:2000,].flat))\n",
    "plt.plot(x, y, '.', color='black')\n",
    "np.corrcoef(x,y)"
   ]
  },
  {
   "cell_type": "code",
   "execution_count": null,
   "id": "7f4cdd6d",
   "metadata": {},
   "outputs": [],
   "source": []
  },
  {
   "cell_type": "code",
   "execution_count": 11,
   "id": "50d3bcdd",
   "metadata": {},
   "outputs": [
    {
     "data": {
      "text/plain": [
       "[<matplotlib.lines.Line2D at 0x7f9946a2ad90>]"
      ]
     },
     "execution_count": 11,
     "metadata": {},
     "output_type": "execute_result"
    },
    {
     "data": {
      "image/png": "[encoded data removed]",
      "text/plain": [
       "<Figure size 432x288 with 1 Axes>"
      ]
     },
     "metadata": {},
     "output_type": "display_data"
    }
   ],
   "source": [
    "######## compare one gene vs prediction\n",
    "x = list((todense(adata.X[:,1]).flat))\n",
    "y = list((predicted_exp[:,1].flat))\n",
    "#plt.plot(x, y, 'o', color='black')\n",
    "#np.corrcoef(x,y)\n",
    "plt.plot(y)\n",
    "plt.plot(x)\n"
   ]
  },
  {
   "cell_type": "code",
   "execution_count": 12,
   "id": "4f8a56a8",
   "metadata": {},
   "outputs": [
    {
     "data": {
      "text/plain": [
       "array([[1.        , 0.00937439],\n",
       "       [0.00937439, 1.        ]])"
      ]
     },
     "execution_count": 12,
     "metadata": {},
     "output_type": "execute_result"
    },
    {
     "data": {
      "image/png": "[encoded data removed]",
      "text/plain": [
       "<Figure size 432x288 with 1 Axes>"
      ]
     },
     "metadata": {},
     "output_type": "display_data"
    }
   ],
   "source": [
    "########### compare all genes\n",
    "x = list((todense(adata.X[1:2000,]).flat))\n",
    "y = list((predicted_exp[1:2000,].flat))\n",
    "plt.plot(x, y, 'o', color='black')\n",
    "np.corrcoef(x,y)"
   ]
  },
  {
   "cell_type": "code",
   "execution_count": 13,
   "id": "fc92f4a8",
   "metadata": {},
   "outputs": [],
   "source": [
    "# sc.pl.umap(adata)\n",
    "# https://github.com/YosefLab/scvi-tools/blob/master/scvi/train/_trainer.py\n"
   ]
  },
  {
   "cell_type": "code",
   "execution_count": 14,
   "id": "c51aa088",
   "metadata": {},
   "outputs": [
    {
     "name": "stdout",
     "output_type": "stream",
     "text": [
      "tensor([[0.0000, 0.0000, 0.0000,  ..., 0.5413, 0.5413, 0.5413],\n",
      "        [0.0000, 0.0000, 0.0000,  ..., 0.5413, 0.5413, 0.5413],\n",
      "        [0.0000, 0.0000, 0.0000,  ..., 0.5413, 0.0000, 0.0000],\n",
      "        ...,\n",
      "        [0.0000, 0.0000, 0.0000,  ..., 0.5413, 0.5413, 0.5413],\n",
      "        [0.0000, 0.0000, 0.0000,  ..., 0.5413, 0.5413, 0.0000],\n",
      "        [0.0000, 0.0000, 0.0000,  ..., 0.5413, 0.5413, 0.5413]])\n"
     ]
    }
   ],
   "source": [
    "#z = zspace.get_latent_coordinates().detach().cpu().numpy()\n",
    "z = m.env.get_variable_as_tensor(\"enc_rna\")\n",
    "print(z)\n",
    "z = z.detach().cpu().numpy()"
   ]
  },
  {
   "cell_type": "code",
   "execution_count": 15,
   "id": "0ce2d563",
   "metadata": {},
   "outputs": [
    {
     "data": {
      "text/plain": [
       "[<matplotlib.lines.Line2D at 0x7f994695e6d0>]"
      ]
     },
     "execution_count": 15,
     "metadata": {},
     "output_type": "execute_result"
    },
    {
     "data": {
      "image/png": "[encoded data removed]",
      "text/plain": [
       "<Figure size 432x288 with 1 Axes>"
      ]
     },
     "metadata": {},
     "output_type": "display_data"
    }
   ],
   "source": [
    "zx = z[:,0]\n",
    "zy = z[:,1]\n",
    "plt.plot(zx, zy, '.', color='black')"
   ]
  },
  {
   "cell_type": "code",
   "execution_count": 16,
   "id": "0fa01a98",
   "metadata": {},
   "outputs": [
    {
     "data": {
      "text/plain": [
       "array([0., 0., 0., 0., 0., 0., 0., 0., 0., 0., 0., 0., 0., 0., 0., 0., 0.,\n",
       "       0., 0., 0., 0., 0., 0., 0., 0., 0., 0., 0., 0., 0., 0., 0., 0., 0.,\n",
       "       0., 0., 0., 0., 0., 0., 0., 0., 0., 0., 0., 0., 0., 0., 0., 0., 0.,\n",
       "       0., 0., 0., 0., 0., 0., 0., 0., 0., 0., 0., 0., 0., 0., 0., 0., 0.,\n",
       "       0., 0., 0., 0., 0., 0., 0., 0., 0., 0., 0., 0., 0., 0., 0., 0., 0.,\n",
       "       0., 0., 0., 0., 0., 0., 0., 0., 0., 0., 0., 0., 0., 0., 0., 0., 0.,\n",
       "       0., 0., 0., 0., 0., 0., 0., 0., 0., 0., 0., 0., 0., 0., 0., 0., 0.,\n",
       "       0., 0., 0., 0., 0., 0., 0., 0., 0., 0., 0., 0., 0., 0., 0., 0., 0.,\n",
       "       0., 0., 0., 0., 0., 0., 0., 0., 0., 0., 0., 0., 0., 0., 0., 0., 0.,\n",
       "       0., 0., 0., 0., 0., 0., 0., 0., 0., 0., 0., 0., 0., 0., 0., 0., 0.,\n",
       "       0., 0., 0., 0., 0., 0., 0., 0., 0., 0., 0., 0., 0., 0., 0., 0., 0.,\n",
       "       0., 0., 0., 0., 0., 0., 0., 0., 0., 0., 0., 0., 0., 0., 0., 0., 0.,\n",
       "       0., 0., 0., 0., 0., 0., 0., 0., 0., 0., 0., 0., 0., 0., 0., 0., 0.,\n",
       "       0., 0., 0., 0., 0., 0., 0., 0., 0., 0., 0., 0., 0., 0., 0., 0., 0.,\n",
       "       0., 0., 0., 0., 0., 0., 0., 0., 0., 0., 0., 0., 0., 0., 0., 0., 0.,\n",
       "       0., 0., 0., 0., 0., 0., 0., 0., 0., 0., 0., 0., 0., 0., 0., 0., 0.,\n",
       "       0., 0., 0., 0., 0., 0., 0., 0., 0., 0., 0., 0., 0., 0., 0., 0., 0.,\n",
       "       0., 0., 0., 0., 0., 0., 0., 0., 0., 0., 0., 0., 0., 0., 0., 0., 0.,\n",
       "       0., 0., 0., 0., 0., 0., 0., 0., 0., 0., 0., 0., 0., 0., 0., 0., 0.,\n",
       "       0., 0., 0., 0., 0., 0., 0., 0., 0., 0., 0., 0., 0., 0., 0., 0., 0.,\n",
       "       0., 0., 0., 0., 0., 0., 0., 0., 0., 0., 0., 0., 0., 0., 0., 0., 0.,\n",
       "       0., 0., 0., 0., 0., 0., 0., 0., 0., 0., 0., 0., 0., 0., 0., 0., 0.,\n",
       "       0., 0., 0., 0., 0., 0., 0., 0., 0., 0., 0., 0., 0., 0., 0., 0., 0.,\n",
       "       0., 0., 0., 0., 0., 0., 0., 0., 0., 0., 0., 0., 0., 0., 0., 0., 0.,\n",
       "       0., 0., 0., 0., 0., 0., 0., 0., 0., 0., 0., 0., 0., 0., 0., 0., 0.,\n",
       "       0., 0., 0., 0., 0., 0., 0., 0., 0., 0., 0., 0., 0., 0., 0., 0., 0.,\n",
       "       0., 0., 0., 0., 0., 0., 0., 0., 0., 0., 0., 0., 0., 0., 0., 0., 0.,\n",
       "       0., 0., 0., 0., 0., 0., 0., 0., 0., 0., 0., 0., 0., 0., 0., 0., 0.,\n",
       "       0., 0., 0., 0., 0., 0., 0., 0., 0., 0., 0., 0., 0., 0., 0., 0., 0.,\n",
       "       0., 0., 0., 0., 0., 0., 0., 0., 0., 0., 0., 0., 0., 0., 0., 0., 0.,\n",
       "       0., 0., 0., 0., 0., 0., 0., 0., 0., 0., 0., 0., 0., 0., 0., 0., 0.,\n",
       "       0., 0., 0., 0., 0., 0., 0., 0., 0., 0., 0., 0., 0., 0., 0., 0., 0.,\n",
       "       0., 0., 0., 0., 0., 0., 0., 0., 0., 0., 0., 0., 0., 0., 0., 0., 0.,\n",
       "       0., 0., 0., 0., 0., 0., 0., 0., 0., 0., 0., 0., 0., 0., 0., 0., 0.,\n",
       "       0., 0., 0., 0., 0., 0., 0., 0., 0., 0., 0., 0., 0., 0., 0., 0., 0.,\n",
       "       0., 0., 0., 0., 0., 0., 0., 0., 0., 0., 0., 0., 0., 0., 0., 0., 0.,\n",
       "       0., 0., 0., 0., 0., 0., 0., 0., 0., 0., 0., 0., 0., 0., 0., 0., 0.,\n",
       "       0., 0., 0., 0., 0., 0., 0., 0., 0., 0., 0., 0., 0., 0., 0., 0., 0.,\n",
       "       0., 0., 0., 0., 0., 0., 0., 0., 0., 0., 0., 0., 0., 0., 0., 0., 0.,\n",
       "       0., 0., 0., 0., 0., 0., 0., 0., 0., 0., 0., 0., 0., 0., 0., 0., 0.,\n",
       "       0., 0., 0., 0., 0., 0., 0., 0., 0., 0., 0., 0., 0., 0., 0., 0., 0.,\n",
       "       0., 0., 0., 0., 0., 0., 0., 0., 0., 0., 0., 0., 0., 0., 0., 0., 0.,\n",
       "       0., 0., 0., 0., 0., 0., 0., 0., 0., 0., 0., 0., 0., 0., 0., 0., 0.,\n",
       "       0., 0., 0., 0., 0., 0., 0., 0., 0., 0., 0., 0., 0., 0., 0., 0., 0.,\n",
       "       0., 0., 0., 0., 0., 0., 0., 0., 0., 0., 0., 0., 0., 0., 0., 0., 0.,\n",
       "       0., 0., 0., 0., 0., 0., 0., 0., 0., 0., 0., 0., 0., 0., 0., 0., 0.,\n",
       "       0., 0., 0., 0., 0., 0., 0., 0., 0., 0., 0., 0., 0., 0., 0., 0., 0.,\n",
       "       0., 0., 0., 0., 0., 0., 0., 0., 0., 0., 0., 0., 0., 0., 0., 0., 0.,\n",
       "       0., 0., 0., 0., 0., 0., 0., 0., 0., 0., 0., 0., 0., 0., 0., 0., 0.,\n",
       "       0., 0., 0., 0., 0., 0., 0., 0., 0., 0., 0., 0., 0., 0., 0., 0., 0.,\n",
       "       0., 0., 0., 0., 0., 0., 0., 0., 0., 0., 0., 0., 0., 0., 0., 0., 0.,\n",
       "       0., 0., 0., 0., 0., 0., 0., 0., 0., 0., 0., 0., 0., 0., 0., 0., 0.,\n",
       "       0., 0., 0., 0., 0., 0., 0., 0., 0., 0., 0., 0., 0., 0., 0., 0., 0.,\n",
       "       0., 0., 0., 0., 0., 0., 0., 0., 0., 0., 0., 0., 0., 0., 0., 0., 0.,\n",
       "       0., 0., 0., 0., 0., 0., 0., 0., 0., 0., 0., 0., 0., 0., 0., 0., 0.,\n",
       "       0., 0., 0., 0., 0., 0., 0., 0., 0., 0., 0., 0., 0., 0., 0., 0., 0.,\n",
       "       0., 0., 0., 0., 0., 0., 0., 0., 0., 0., 0., 0., 0., 0., 0., 0., 0.,\n",
       "       0., 0., 0., 0., 0., 0., 0., 0., 0., 0., 0., 0., 0., 0., 0., 0., 0.,\n",
       "       0., 0., 0., 0., 0., 0., 0., 0., 0., 0., 0., 0., 0., 0.],\n",
       "      dtype=float32)"
      ]
     },
     "execution_count": 16,
     "metadata": {},
     "output_type": "execute_result"
    }
   ],
   "source": [
    "zx"
   ]
  },
  {
   "cell_type": "code",
   "execution_count": 17,
   "id": "37350861",
   "metadata": {},
   "outputs": [
    {
     "data": {
      "text/plain": [
       "Parameter containing:\n",
       "tensor([[ 0.4316, -1.1124,  0.3670,  0.1080],\n",
       "        [ 0.9057,  0.3599, -0.4818,  0.2128],\n",
       "        [ 1.2330, -0.1118,  0.1500,  0.8765],\n",
       "        [ 0.9429,  0.4970,  0.7956,  0.3842],\n",
       "        [ 0.9596, -0.0787,  0.6293,  1.4816],\n",
       "        [ 1.3138, -0.8716,  0.5073, -0.0241],\n",
       "        [-0.8919,  0.8706,  0.1707,  0.2866],\n",
       "        [ 0.0933,  0.4672, -1.7152,  0.2830],\n",
       "        [-0.6923,  1.3815, -0.1449,  0.3788],\n",
       "        [ 0.5443,  0.8824,  0.6619,  0.2286]], requires_grad=True)"
      ]
     },
     "execution_count": 17,
     "metadata": {},
     "output_type": "execute_result"
    }
   ],
   "source": [
    "#the_enc.layer\n",
    "#the_dec.layer\n",
    "#m\n",
    "the_enc.layer.linear_layers[0].weight"
   ]
  },
  {
   "cell_type": "code",
   "execution_count": null,
   "id": "26c66223",
   "metadata": {},
   "outputs": [],
   "source": []
  }
 ],
 "metadata": {
  "kernelspec": {
   "display_name": "Python 3 (ipykernel)",
   "language": "python",
   "name": "python3"
  },
  "language_info": {
   "codemirror_mode": {
    "name": "ipython",
    "version": 3
   },
   "file_extension": ".py",
   "mimetype": "text/x-python",
   "name": "python",
   "nbconvert_exporter": "python",
   "pygments_lexer": "ipython3",
   "version": "3.8.10"
  }
 },
 "nbformat": 4,
 "nbformat_minor": 5
}
